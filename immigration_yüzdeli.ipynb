{
 "cells": [
  {
   "metadata": {
    "ExecuteTime": {
     "end_time": "2024-08-05T20:30:43.581604Z",
     "start_time": "2024-08-05T20:30:43.579085Z"
    }
   },
   "cell_type": "code",
   "source": [
    "import pandas as pd\n",
    "import matplotlib.pyplot as plt"
   ],
   "id": "9a645420b83534fa",
   "outputs": [],
   "execution_count": 1
  },
  {
   "metadata": {
    "ExecuteTime": {
     "end_time": "2024-08-05T20:30:58.413823Z",
     "start_time": "2024-08-05T20:30:58.126936Z"
    }
   },
   "cell_type": "code",
   "source": [
    "# Load the Excel file\n",
    "file_path = \"be0101_invandringkomfland2023_eng (1).xlsx\"\n",
    "df = pd.read_excel(file_path, sheet_name='Table')\n",
    "df_cleaned = df.drop(columns=['no need', 'no need.1', 'no need.2'])"
   ],
   "id": "fb1b0380719e2439",
   "outputs": [],
   "execution_count": 3
  },
  {
   "metadata": {
    "ExecuteTime": {
     "end_time": "2024-08-05T20:31:00.028101Z",
     "start_time": "2024-08-05T20:31:00.015377Z"
    }
   },
   "cell_type": "code",
   "source": [
    "for col in df_cleaned.columns[1:]:\n",
    "    df_cleaned[col] = pd.to_numeric(df_cleaned[col], errors='coerce').fillna(0).astype(int)"
   ],
   "id": "d63e69727e479d15",
   "outputs": [],
   "execution_count": 4
  },
  {
   "metadata": {
    "ExecuteTime": {
     "end_time": "2024-08-05T20:31:01.530531Z",
     "start_time": "2024-08-05T20:31:01.525010Z"
    }
   },
   "cell_type": "code",
   "source": [
    "df_cleaned['Soviet Union and Unknown country'] = df_cleaned['Soviet Union'] + df_cleaned['Unknown country']\n",
    "df_cleaned = df_cleaned.drop(columns=['Soviet Union', 'Unknown country'])"
   ],
   "id": "3900c132a01160ec",
   "outputs": [],
   "execution_count": 5
  },
  {
   "metadata": {
    "ExecuteTime": {
     "end_time": "2024-08-05T20:31:02.781359Z",
     "start_time": "2024-08-05T20:31:02.768195Z"
    }
   },
   "cell_type": "code",
   "source": "df_cleaned.info()",
   "id": "a995ef1e5ed2426e",
   "outputs": [
    {
     "name": "stdout",
     "output_type": "stream",
     "text": [
      "<class 'pandas.core.frame.DataFrame'>\n",
      "RangeIndex: 19 entries, 0 to 18\n",
      "Data columns (total 24 columns):\n",
      " #   Column                                         Non-Null Count  Dtype \n",
      "---  ------                                         --------------  ----- \n",
      " 0   County                                         19 non-null     object\n",
      " 1   Total                                          19 non-null     int32 \n",
      " 2   Sweden                                         19 non-null     int32 \n",
      " 3   Denmark                                        19 non-null     int32 \n",
      " 4   Finland                                        19 non-null     int32 \n",
      " 5   Iceland                                        19 non-null     int32 \n",
      " 6   Norway                                         19 non-null     int32 \n",
      " 7   EU except the Nordic countries                 19 non-null     int32 \n",
      " 8   Europe except the EU and the Nordic countries  19 non-null     int32 \n",
      " 9   Türkiye                                        19 non-null     int32 \n",
      " 10  Africa                                         19 non-null     int32 \n",
      " 11  North America Except United States             19 non-null     int32 \n",
      " 12  United States                                  19 non-null     int32 \n",
      " 13  South America                                  19 non-null     int32 \n",
      " 14  Asia-Other                                     19 non-null     int32 \n",
      " 15  Afghanistan                                    19 non-null     int32 \n",
      " 16  India                                          19 non-null     int32 \n",
      " 17  Iraq                                           19 non-null     int32 \n",
      " 18  Islamic Republic of Iran                       19 non-null     int32 \n",
      " 19  China                                          19 non-null     int32 \n",
      " 20  Pakistan                                       19 non-null     int32 \n",
      " 21  Syrian Arab Republic                           19 non-null     int32 \n",
      " 22  Oceania                                        19 non-null     int32 \n",
      " 23  Soviet Union and Unknown country               19 non-null     int32 \n",
      "dtypes: int32(23), object(1)\n",
      "memory usage: 2.0+ KB\n"
     ]
    }
   ],
   "execution_count": 6
  },
  {
   "metadata": {
    "ExecuteTime": {
     "end_time": "2024-08-05T20:31:04.709156Z",
     "start_time": "2024-08-05T20:31:04.701834Z"
    }
   },
   "cell_type": "code",
   "source": [
    "unique_counties = df_cleaned['County'].unique()\n",
    "unique_counties"
   ],
   "id": "cb1f2e03c5b95fc4",
   "outputs": [
    {
     "data": {
      "text/plain": [
       "array(['Stockholm county', 'Uppsala county', 'Östergötland county',\n",
       "       'Jönköping county', 'Kronoberg county', 'Kalmar county',\n",
       "       'Gotland county', 'Blekinge county', 'Skåne county',\n",
       "       'Halland county', 'Västra Götaland county', 'Värmland county',\n",
       "       'Västmanland county', 'Dalarna county', 'Gävleborg county',\n",
       "       'Västernorrland county', 'Jämtland county', 'Västerbotten county',\n",
       "       'Norrbotten county'], dtype=object)"
      ]
     },
     "execution_count": 7,
     "metadata": {},
     "output_type": "execute_result"
    }
   ],
   "execution_count": 7
  },
  {
   "metadata": {
    "ExecuteTime": {
     "end_time": "2024-08-04T17:34:30.130286Z",
     "start_time": "2024-08-04T17:34:30.125900Z"
    }
   },
   "cell_type": "code",
   "source": [
    "country_columns = df_cleaned.columns[2:]  # İlk iki kolonu atla (County ve Total)\n",
    "print(country_columns)"
   ],
   "id": "cc4af2deb6595f89",
   "execution_count": 206,
   "outputs": []
  },
  {
   "metadata": {
    "ExecuteTime": {
     "end_time": "2024-08-04T17:34:39.753386Z",
     "start_time": "2024-08-04T17:34:30.131733Z"
    }
   },
   "cell_type": "code",
   "source": [
    "colors = plt.cm.Paired.colors\n",
    "\n",
    "for county in unique_counties:\n",
    "    county_data = df_cleaned[df_cleaned['County'] == county].drop(columns=['County'])\n",
    "    total_immigrants = county_data['Total'].sum()\n",
    "    county_country_distribution = county_data.drop(columns=['Total']).sum().sort_values(ascending=False)\n",
    "    \n",
    "    # Calculate percentages\n",
    "    county_country_percentage = (county_country_distribution / total_immigrants) * 100\n",
    "    \n",
    "    fig, ax = plt.subplots(figsize=(12, 8))\n",
    "    bars = ax.bar(county_country_distribution.index, county_country_distribution.values, \n",
    "                  color=[colors[i % len(colors)] for i in range(len(county_country_distribution))])\n",
    "\n",
    "    ax.set_title(f'Country Distribution in {county}')\n",
    "    ax.set_xlabel('Country')\n",
    "    ax.set_ylabel('Number of Immigrants')\n",
    "\n",
    "    # Add total number of immigrants as a text in the plot\n",
    "    ax.text(len(county_country_distribution) / 2, max(county_country_distribution.values) * 0.9, f'Total: {total_immigrants}', \n",
    "            ha='center', va='center', fontsize=12, bbox=dict(facecolor='white', alpha=0.8, edgecolor='none'))\n",
    "\n",
    "    # Adding value labels on top of bars\n",
    "    for bar in bars:\n",
    "        height = bar.get_height()\n",
    "        ax.annotate(f'{height}', \n",
    "                    xy=(bar.get_x() + bar.get_width() / 2, height), \n",
    "                    xytext=(0, 3),  # 3 points vertical offset\n",
    "                    textcoords=\"offset points\", \n",
    "                    ha='center', va='bottom')\n",
    "\n",
    "    plt.xticks(rotation=90)\n",
    "\n",
    "    # Create the legend\n",
    "    handles = [plt.Line2D([0], [0], color=colors[i % len(colors)], lw=4) for i in range(len(county_country_distribution))]\n",
    "    labels = [f'{country}: {county_country_percentage[country]:.1f}%' for country in county_country_distribution.index]\n",
    "    plt.legend(handles, labels, bbox_to_anchor=(1.05, 1), loc='upper left')\n",
    "\n",
    "    plt.show()"
   ],
   "id": "a21dfa8c4f4f68f4",
   "execution_count": 207,
   "outputs": []
  },
  {
   "metadata": {
    "ExecuteTime": {
     "end_time": "2024-08-04T17:34:39.756946Z",
     "start_time": "2024-08-04T17:34:39.753890Z"
    }
   },
   "cell_type": "code",
   "source": "",
   "id": "711621b0a5585488",
   "execution_count": 207,
   "outputs": []
  }
 ],
 "metadata": {
  "kernelspec": {
   "display_name": "Python 3",
   "language": "python",
   "name": "python3"
  },
  "language_info": {
   "codemirror_mode": {
    "name": "ipython",
    "version": 2
   },
   "file_extension": ".py",
   "mimetype": "text/x-python",
   "name": "python",
   "nbconvert_exporter": "python",
   "pygments_lexer": "ipython2",
   "version": "2.7.6"
  }
 },
 "nbformat": 4,
 "nbformat_minor": 5
}
