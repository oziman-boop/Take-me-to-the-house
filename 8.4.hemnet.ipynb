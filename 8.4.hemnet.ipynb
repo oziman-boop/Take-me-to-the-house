{
 "cells": [
  {
   "cell_type": "code",
   "id": "initial_id",
   "metadata": {
    "collapsed": true,
    "ExecuteTime": {
     "end_time": "2024-08-04T18:07:18.637725Z",
     "start_time": "2024-08-04T18:07:18.612247Z"
    }
   },
   "source": [
    "import pandas as pd\n",
    "import numpy as np\n",
    "import matplotlib.pyplot as plt\n",
    "import seaborn as sns\n",
    "import warnings\n",
    "import plotly.express as px\n",
    "import plotly.graph_objects as go\n",
    "from plotly.subplots import make_subplots\n",
    "import plotly.subplots as sp\n",
    "from IPython.display import display\n",
    "from sklearn.preprocessing import StandardScaler, MinMaxScaler, RobustScaler, LabelEncoder, OneHotEncoder\n",
    "from datetime import datetime\n",
    "import warnings\n",
    "warnings.simplefilter(action='ignore', category=FutureWarning)\n",
    "warnings.simplefilter(action='ignore', category=pd.errors.SettingWithCopyWarning)\n",
    "import folium\n",
    "from folium.plugins import HeatMap, MousePosition\n",
    "import random\n",
    "# from branca.element import Template, MacroElement\n",
    "from geopy.distance import geodesic\n",
    "from sklearn.linear_model import LinearRegression, Ridge, Lasso, ElasticNet, BayesianRidge\n",
    "from sklearn.neighbors import KNeighborsRegressor\n",
    "from sklearn.tree import DecisionTreeRegressor\n",
    "from sklearn.ensemble import RandomForestRegressor, GradientBoostingRegressor\n",
    "from xgboost import XGBRegressor\n",
    "from catboost import CatBoostRegressor\n",
    "from lightgbm import LGBMRegressor\n",
    "from sklearn.model_selection import train_test_split\n",
    "from sklearn.metrics import mean_squared_error, r2_score, mean_absolute_error, mean_absolute_percentage_error, mean_squared_log_error, make_scorer"
   ],
   "execution_count": 14,
   "outputs": []
  },
  {
   "metadata": {
    "ExecuteTime": {
     "end_time": "2024-08-04T18:07:20.289334Z",
     "start_time": "2024-08-04T18:07:20.284861Z"
    }
   },
   "cell_type": "code",
   "source": [
    "pd.set_option('display.max_columns', 500)\n",
    "pd.set_option('display.width', None)\n",
    "pd.set_option('display.max_rows', 290)\n",
    "pd.set_option('display.float_format', lambda x: '%.5f' % x)"
   ],
   "id": "bae74812489670af",
   "execution_count": 15,
   "outputs": []
  },
  {
   "metadata": {
    "ExecuteTime": {
     "end_time": "2024-08-04T18:07:31.577184Z",
     "start_time": "2024-08-04T18:07:20.990687Z"
    }
   },
   "cell_type": "code",
   "source": "df_ = pd.read_csv('hemnet.csv')",
   "id": "eeaf8cf25a230047",
   "execution_count": 16,
   "outputs": []
  },
  {
   "metadata": {
    "ExecuteTime": {
     "end_time": "2024-08-04T18:07:31.785553Z",
     "start_time": "2024-08-04T18:07:31.579544Z"
    }
   },
   "cell_type": "code",
   "source": "df = df_.copy()",
   "id": "93195f07177a6c60",
   "execution_count": 17,
   "outputs": []
  },
  {
   "metadata": {
    "ExecuteTime": {
     "end_time": "2024-08-04T18:07:31.793385Z",
     "start_time": "2024-08-04T18:07:31.786571Z"
    }
   },
   "cell_type": "code",
   "source": [
    "def grab_col_names(dataframe, cat_th=10, car_th=300):\n",
    "    \"\"\"\n",
    "    Grab column names based on their types and cardinality.\n",
    "\n",
    "    Parameters:\n",
    "    cat_th (int): Threshold for numerical columns to be considered categorical. Default is 10.\n",
    "    car_th (int): Threshold for categorical columns to be considered cardinal. Default is 20.\n",
    "\n",
    "    Returns:\n",
    "    tuple: Lists of categorical columns, numerical columns, and cardinal columns.\n",
    "    \"\"\"\n",
    "    cat_cols = [col for col in dataframe.columns if str(dataframe[col].dtypes) in ['category', 'object', 'bool']]\n",
    "    num_but_cat = [col for col in dataframe.columns if dataframe[col].nunique() < cat_th and dataframe[col].dtypes in ['int', 'float']]\n",
    "    cat_but_car = [col for col in dataframe.columns if dataframe[col].nunique() > car_th and str(dataframe[col].dtypes) in ['category', 'object']]\n",
    "    cat_cols = cat_cols + num_but_cat\n",
    "    cat_cols = [col for col in cat_cols if col not in cat_but_car]\n",
    "    num_cols = [col for col in dataframe.columns if dataframe[col].dtypes in ['int', 'float', 'int64', 'float64']]\n",
    "    num_cols = [col for col in num_cols if col not in cat_cols]\n",
    "    date_cols = [col for col in dataframe.columns if dataframe[col].dtypes == 'datetime64[ns]']\n",
    "\n",
    "    return cat_cols, num_cols, cat_but_car, date_cols"
   ],
   "id": "cb226a88b888220a",
   "execution_count": 18,
   "outputs": []
  },
  {
   "metadata": {
    "ExecuteTime": {
     "end_time": "2024-08-04T18:07:35.599510Z",
     "start_time": "2024-08-04T18:07:31.795393Z"
    }
   },
   "cell_type": "code",
   "source": "cat_cols, num_cols, cat_but_car, date_cols = grab_col_names(df)",
   "id": "ee95d6a1bee43637",
   "execution_count": 19,
   "outputs": []
  },
  {
   "metadata": {
    "ExecuteTime": {
     "end_time": "2024-08-04T18:07:35.626860Z",
     "start_time": "2024-08-04T18:07:35.600726Z"
    }
   },
   "cell_type": "code",
   "source": "df.head()",
   "id": "c4402ac823373ea9",
   "execution_count": 20,
   "outputs": []
  },
  {
   "metadata": {
    "ExecuteTime": {
     "end_time": "2024-08-04T18:07:36.729825Z",
     "start_time": "2024-08-04T18:07:35.627869Z"
    }
   },
   "cell_type": "code",
   "source": [
    "def dataframe_summary(dataframe: pd.DataFrame, response_var : str, head: int = 5, q1: float = 0.25, q2: float = 0.50, q3: float = 0.75, q4: float = 0.95, verbose: bool = False):\n",
    "    if not isinstance(dataframe, pd.DataFrame):\n",
    "        raise ValueError(\"Input must be a pandas DataFrame\")\n",
    "\n",
    "    def print_section(title):\n",
    "        if verbose:\n",
    "            print(f\"\\n{'-' * 20} {title} {'-' * 20}\\n\")\n",
    "\n",
    "    cat_cols, num_cols, cat_but_car, date_cols = grab_col_names(dataframe)\n",
    "    memory_usage = dataframe.memory_usage(deep=True)\n",
    "\n",
    "    summary_df = pd.DataFrame({\n",
    "            'Data Type': dataframe.dtypes,\n",
    "            'Unique Values': dataframe.nunique(),\n",
    "            'Memory Usage (MB)': memory_usage / 1e6,\n",
    "            'Null Value Ratio (%)': dataframe.isnull().mean() * 100,\n",
    "            'Zero Value Ratio (%)': (dataframe == 0).mean() * 100,\n",
    "            'Skewness': dataframe.select_dtypes(include='number').skew(),\n",
    "            'Kurtosis': dataframe.select_dtypes(include='number').kurt()\n",
    "        }).round({\n",
    "            'Memory Usage (MB)': 3,\n",
    "            'Null Value Ratio (%)': 3,\n",
    "            'Zero Value Ratio (%)': 3,\n",
    "            'Skewness': 3,\n",
    "            'Kurtosis': 3\n",
    "        }).reset_index().rename(columns = {'index' : 'Variable'})\n",
    "    summary_df['Column Type'] = summary_df.Variable.map(\n",
    "            lambda col: 'Categorical' if col in cat_cols else\n",
    "                        'Numerical' if col in num_cols else\n",
    "                        'Cardinal Categorical' if col in cat_but_car else\n",
    "                        'Date' if col in date_cols else 'Other'\n",
    "        )\n",
    "\n",
    "    summary_df['Correlation with Response'] = np.nan\n",
    "\n",
    "    if response_var in dataframe.columns:\n",
    "        if pd.api.types.is_numeric_dtype(dataframe[response_var]):\n",
    "            num_df = dataframe.select_dtypes(include='number')\n",
    "            if response_var in num_df.columns:\n",
    "                corr_with_response = num_df.corr()[response_var]\n",
    "                for var in corr_with_response.index:\n",
    "                    if var in summary_df['Variable'].values:\n",
    "                        summary_df.loc[summary_df['Variable'] == var, 'Correlation with Response'] = corr_with_response[var]\n",
    "\n",
    "    if verbose:\n",
    "        print_section(\"Shape of the dataframe\")\n",
    "        print(f\"Rows: {dataframe.shape[0]}, Columns: {dataframe.shape[1]}\")\n",
    "\n",
    "        print_section(\"Column Classification\")\n",
    "        print(f\"Categorical Columns: {cat_cols}\\n\")\n",
    "        print(f\"Numerical Columns: {num_cols}\\n\")\n",
    "        print(f\"Cardinal Categorical Columns: {cat_but_car}\\n\")\n",
    "        print(f\"Date Columns: {date_cols}\\n\")\n",
    "\n",
    "        print_section(\"Unique Values, Memory Usage, Null and Zero Value Ratios\")\n",
    "\n",
    "        print(summary_df)\n",
    "\n",
    "        print_section(\"Head\")\n",
    "        print(dataframe.head(head))\n",
    "\n",
    "        print_section(\"Tail\")\n",
    "        print(dataframe.tail(head))\n",
    "\n",
    "        print_section(\"Missing Values\")\n",
    "        missing = dataframe.isnull().sum()\n",
    "        missing_pct = 100 * dataframe.isnull().sum() / len(dataframe)\n",
    "        missing_table = pd.concat([missing, missing_pct], axis=1, keys=['Total', 'Percent'])\n",
    "\n",
    "        missing_columns = missing_table[missing_table['Total'] > 0].sort_values('Total', ascending=False)\n",
    "        num_missing = len(missing_columns)\n",
    "        num_cols_pie = 5\n",
    "        num_rows = -(-num_missing // num_cols_pie)\n",
    "\n",
    "        fig = make_subplots(\n",
    "            rows=num_rows,\n",
    "            cols=num_cols_pie,\n",
    "            specs=[[{'type': 'domain'}] * num_cols_pie for _ in range(num_rows)],\n",
    "            subplot_titles=missing_columns.index.tolist()\n",
    "        )\n",
    "\n",
    "        for i, col in enumerate(missing_columns.index):\n",
    "            row = i // num_cols_pie + 1\n",
    "            col_idx = i % num_cols_pie + 1\n",
    "\n",
    "            missing_count = missing[col]\n",
    "            non_missing_count = len(dataframe) - missing_count\n",
    "            total_count = missing_count + non_missing_count\n",
    "            pie_data = [missing_count, non_missing_count]\n",
    "            pie_labels = ['Missing', 'Not Missing']\n",
    "            pie_percentages = [100 * missing_count / total_count, 100 * non_missing_count / total_count]\n",
    "\n",
    "            fig.add_trace(\n",
    "                go.Pie(\n",
    "                    labels=pie_labels,\n",
    "                    values=pie_data,\n",
    "                    hole=0.4,\n",
    "                    marker=dict(colors=['#ff6f6f', '#6f9eaf']),\n",
    "                    textinfo='label+percent',\n",
    "                    name=col\n",
    "                ),\n",
    "                row=row,\n",
    "                col=col_idx\n",
    "            )\n",
    "\n",
    "        fig.update_layout(\n",
    "            title_text=\"Missing Values - Pie Charts\",\n",
    "            showlegend=True,\n",
    "            legend=dict(\n",
    "                x=1.05,\n",
    "                y=1.0,\n",
    "                traceorder='normal',\n",
    "                orientation='v'\n",
    "            ),\n",
    "            height=num_rows * 300,\n",
    "            width=num_cols_pie * 300\n",
    "        )\n",
    "\n",
    "        fig.show()\n",
    "        \n",
    "        print_section('Mean Values of Response Variable by Categorical Variables')\n",
    "        n_cols = 5\n",
    "        n_rows = (len(cat_cols) + n_cols - 1) // n_cols  \n",
    "        fig = make_subplots(rows=n_rows, cols=n_cols, \n",
    "                            subplot_titles=[f'Mean SalePrice by {col}' for col in cat_cols])\n",
    "        for i, col in enumerate(cat_cols):\n",
    "            df_filtered = df.groupby(col)['SalePrice'].mean().reset_index()\n",
    "            fig.add_trace(\n",
    "                go.Bar(x=df_filtered[col], y=df_filtered['SalePrice'], name='SalePrice', showlegend=False),\n",
    "                row=i // n_cols + 1, col=i % n_cols + 1\n",
    "            )    \n",
    "            mean_value = df_filtered['SalePrice'].mean()\n",
    "            fig.add_trace(\n",
    "                go.Scatter(x=[df_filtered[col].min(), df_filtered[col].max()], y=[mean_value, mean_value],\n",
    "                           mode='lines', line=dict(color='red', dash='dash'), name='Mean SalePrice', showlegend=False),\n",
    "                row=i // n_cols + 1, col=i % n_cols + 1\n",
    "            )\n",
    "        fig.update_layout(\n",
    "            height=300 * n_rows, \n",
    "            width=1500, \n",
    "            title_text=\"Mean SalePrice by Categorical Variables\",\n",
    "            title_x=0.5\n",
    "        )\n",
    "        fig.show()\n",
    "\n",
    "        print_section(\"Descriptive Statistics\")\n",
    "        datetime_columns = dataframe.select_dtypes(include='datetime64[ns]').columns\n",
    "        desc = dataframe.drop(datetime_columns, axis = 1).describe([0, q1, q2, q3, q4, 1]).T\n",
    "        desc['range'] = desc['max'] - desc['min']\n",
    "        desc['coef_var'] = desc['std'] / desc['mean']\n",
    "        print(desc)\n",
    "\n",
    "        print_section(\"Correlation Heatmap and Correlations with Response Variable\")\n",
    "        #plt.figure(figsize=(24, 20))\n",
    "        corr = dataframe.select_dtypes(include = 'number').corr()\n",
    "        mask = np.triu(np.ones_like(corr, dtype = 'bool'))\n",
    "        plt.figure(figsize = (24, 20))\n",
    "        sns.heatmap(corr, mask = mask, annot = True, cmap = 'coolwarm', fmt = '.2f')\n",
    "    else:\n",
    "        return summary_df"
   ],
   "id": "48799d492f558a15",
   "execution_count": 21,
   "outputs": []
  },
  {
   "metadata": {
    "ExecuteTime": {
     "end_time": "2024-08-04T18:07:36.742920Z",
     "start_time": "2024-08-04T18:07:36.731235Z"
    }
   },
   "cell_type": "code",
   "source": "df.columns",
   "id": "c71d4031e24501e0",
   "execution_count": 22,
   "outputs": []
  },
  {
   "metadata": {
    "ExecuteTime": {
     "end_time": "2024-08-04T18:07:48.352175Z",
     "start_time": "2024-08-04T18:07:36.743928Z"
    }
   },
   "cell_type": "code",
   "source": "summary_df = dataframe_summary(df, 'price')",
   "id": "547de7de234072f6",
   "execution_count": 23,
   "outputs": []
  },
  {
   "metadata": {
    "ExecuteTime": {
     "end_time": "2024-08-04T18:07:48.366718Z",
     "start_time": "2024-08-04T18:07:48.353184Z"
    }
   },
   "cell_type": "code",
   "source": "summary_df.sort_values(by = 'Correlation with Response', ascending = False)",
   "id": "9bdcf6a0f9768cb4",
   "execution_count": 24,
   "outputs": []
  },
  {
   "metadata": {
    "ExecuteTime": {
     "end_time": "2024-08-04T18:07:48.388608Z",
     "start_time": "2024-08-04T18:07:48.380466Z"
    }
   },
   "cell_type": "code",
   "source": "summary_df.to_csv('summary_df.csv', index = False)",
   "id": "ddc67083788e7cc",
   "execution_count": 26,
   "outputs": []
  },
  {
   "metadata": {
    "ExecuteTime": {
     "end_time": "2024-08-04T18:08:08.902795Z",
     "start_time": "2024-08-04T18:08:08.891123Z"
    }
   },
   "cell_type": "code",
   "source": [
    "def value_counts_ratio(df, columns, plot=False, verbose=False):\n",
    "    \"\"\"\n",
    "    Calculate the value counts and their proportions for specified columns in a DataFrame, and optionally plot pie charts and bar plots.\n",
    "    Parameters:\n",
    "    - df (pd.DataFrame): The DataFrame to analyze.\n",
    "    - columns (list of str): List of column names to calculate value counts for.\n",
    "    - plot (bool): If True, plot pie charts and bar plots for each column. Default is False.\n",
    "    - verbose (bool): If True, print the value counts and percentages. Default is False.\n",
    "    Returns:\n",
    "    - value_counts_dfs (dict of pd.DataFrame): Dictionary of DataFrames containing value counts and percentages for each column.\n",
    "    \"\"\"\n",
    "    if not isinstance(df, pd.DataFrame):\n",
    "        raise ValueError(\"Input must be a pandas DataFrame\")\n",
    "    if not all(isinstance(col, str) for col in columns):\n",
    "        raise ValueError(\"Columns must be a list of strings\")\n",
    "\n",
    "    value_counts_dfs = {}\n",
    "    for col in columns:\n",
    "        if col not in df.columns:\n",
    "            raise ValueError(f\"Column '{col}' not found in DataFrame\")\n",
    "\n",
    "        value_counts_df = df[col].value_counts(normalize=True).to_frame().reset_index()\n",
    "        value_counts_df.columns = ['value', 'percentage']\n",
    "        value_counts_dfs[col] = value_counts_df\n",
    "\n",
    "        if verbose:\n",
    "            print(f\"\\nColumn: {col}\")\n",
    "            print(value_counts_df)\n",
    "\n",
    "        if plot:\n",
    "            fig, (ax1, ax2) = plt.subplots(1, 2, figsize=(16, 6))\n",
    "            fig.suptitle(f'{col.capitalize()} Proportions', fontsize=16)\n",
    "\n",
    "            def autopct_format(pct):\n",
    "                return f'{pct:.1f}%' if pct >= 2 else ''\n",
    "\n",
    "            wedges, texts, autotexts = ax1.pie(\n",
    "                value_counts_df['percentage'],\n",
    "                labels=None,\n",
    "                autopct=autopct_format,\n",
    "                colors=sns.color_palette(\"tab10\", len(value_counts_df)),\n",
    "                textprops={'fontsize': 10}\n",
    "            )\n",
    "            ax1.set_title('Pie Chart', fontsize=14)\n",
    "            ax1.legend(wedges, value_counts_df['value'], title=\"Values\", loc=\"center left\", bbox_to_anchor=(1, 0, 0.5, 1))\n",
    "\n",
    "            sns.barplot(x='value', y='percentage', data=value_counts_df, ax=ax2, palette=\"tab10\")\n",
    "            ax2.set_title('Bar Plot', fontsize=14)\n",
    "            ax2.set_xlabel('')\n",
    "            ax2.set_ylabel('Percentage')\n",
    "            ax2.set_xticklabels([])\n",
    "\n",
    "            plt.tight_layout()\n",
    "            plt.show()\n",
    "\n",
    "    return value_counts_dfs"
   ],
   "id": "8efefae9284cc4c1",
   "execution_count": 27,
   "outputs": []
  },
  {
   "metadata": {
    "ExecuteTime": {
     "end_time": "2024-08-04T18:26:42.954014Z",
     "start_time": "2024-08-04T18:26:42.943562Z"
    }
   },
   "cell_type": "code",
   "source": [
    "def value_counts_ratio(df, column, plot=False, verbose=False, save_image=False, image_path='plot.png'):\n",
    "    \"\"\"\n",
    "    Calculate the value counts and their proportions for a specified column in a DataFrame, and optionally plot a bar plot.\n",
    "    \n",
    "    Parameters:\n",
    "    - df (pd.DataFrame): The DataFrame to analyze.\n",
    "    - column (str): Column name to calculate value counts for.\n",
    "    - plot (bool): If True, plot a bar plot for the column. Default is False.\n",
    "    - verbose (bool): If True, print the value counts and percentages. Default is False.\n",
    "    - save_image (bool): If True, save the plot as an image file. Default is False.\n",
    "    - image_path (str): Path to save the image file. Default is 'plot.png'.\n",
    "    \n",
    "    Returns:\n",
    "    - value_counts_df (pd.DataFrame): DataFrame containing value counts and percentages for the column.\n",
    "    \"\"\"\n",
    "    if not isinstance(df, pd.DataFrame):\n",
    "        raise ValueError(\"Input must be a pandas DataFrame\")\n",
    "    if not isinstance(column, str):\n",
    "        raise ValueError(\"Column must be a string\")\n",
    "\n",
    "    if column not in df.columns:\n",
    "        raise ValueError(f\"Column '{column}' not found in DataFrame\")\n",
    "\n",
    "    # Calculate value counts and percentages\n",
    "    value_counts_df = df[column].value_counts(normalize=True).to_frame().reset_index()\n",
    "    value_counts_df.columns = ['value', 'percentage']\n",
    "\n",
    "    if verbose:\n",
    "        print(f\"\\nColumn: {column}\")\n",
    "        print(value_counts_df)\n",
    "\n",
    "    if plot:\n",
    "        # Plotting bar plot only\n",
    "        plt.figure(figsize=(10, 6))\n",
    "        sns.barplot(x='value', y='percentage', data=value_counts_df, palette=\"tab10\")\n",
    "        plt.title(f'{column.capitalize()} Proportions', fontsize=16)\n",
    "        plt.xlabel('')\n",
    "        plt.ylabel('Percentage')\n",
    "        plt.xticks(rotation=45)\n",
    "        plt.tight_layout()\n",
    "        \n",
    "        if save_image:\n",
    "            plt.savefig(image_path, bbox_inches='tight')\n",
    "            print(f\"Plot saved as '{image_path}'\")\n",
    "        else:\n",
    "            plt.show()\n",
    "\n",
    "    return value_counts_df"
   ],
   "id": "8aab9141b288cc4",
   "execution_count": 43,
   "outputs": []
  },
  {
   "metadata": {
    "ExecuteTime": {
     "end_time": "2024-08-04T18:13:46.441989Z",
     "start_time": "2024-08-04T18:13:46.415068Z"
    }
   },
   "cell_type": "code",
   "source": "df.head()",
   "id": "d1fc20c470541d28",
   "execution_count": 31,
   "outputs": []
  },
  {
   "metadata": {
    "ExecuteTime": {
     "end_time": "2024-08-04T18:42:06.713174Z",
     "start_time": "2024-08-04T18:42:06.365813Z"
    }
   },
   "cell_type": "code",
   "source": "value_counts_ratio(df, 'balcony', plot = True, save_image = True, image_path = 'balcony_before.png')",
   "id": "d3b9a975cd14d502",
   "execution_count": 48,
   "outputs": []
  },
  {
   "metadata": {
    "ExecuteTime": {
     "end_time": "2024-08-04T18:47:40.405491Z",
     "start_time": "2024-08-04T18:47:40.396550Z"
    }
   },
   "cell_type": "code",
   "source": [
    "def plot_missing_values_pie_charts(dataframe, save_to_file=False, filename='missing_values_pie_charts.png'):\n",
    "    missing = dataframe.isnull().sum()\n",
    "    missing_pct = 100 * dataframe.isnull().sum() / len(dataframe)\n",
    "    missing_table = pd.concat([missing, missing_pct], axis=1, keys=['Total', 'Percent'])\n",
    "\n",
    "    missing_columns = missing_table[missing_table['Total'] > 0].sort_values('Total', ascending=False)\n",
    "    num_missing = len(missing_columns)\n",
    "    num_cols_pie = 5\n",
    "    num_rows = -(-num_missing // num_cols_pie)\n",
    "\n",
    "    fig, axs = plt.subplots(num_rows, num_cols_pie, figsize=(num_cols_pie * 5, num_rows * 5))\n",
    "\n",
    "    axs = axs.flatten()\n",
    "\n",
    "    for i, col in enumerate(missing_columns.index):\n",
    "        missing_count = missing[col]\n",
    "        non_missing_count = len(dataframe) - missing_count\n",
    "        total_count = missing_count + non_missing_count\n",
    "        pie_data = [missing_count, non_missing_count]\n",
    "        pie_labels = ['Missing', 'Not Missing']\n",
    "\n",
    "        axs[i].pie(\n",
    "            pie_data,\n",
    "            labels=pie_labels,\n",
    "            colors=['#90EE90', '#D3D3D3'],\n",
    "            autopct='%1.1f%%',\n",
    "            startangle=90,\n",
    "            wedgeprops=dict(width=0.3)\n",
    "        )\n",
    "        axs[i].set_title(col, fontsize=12)\n",
    "\n",
    "    for j in range(num_missing, len(axs)):\n",
    "        axs[j].axis('off')\n",
    "\n",
    "    fig.suptitle(\"Missing Values - Pie Charts\", fontsize=16)\n",
    "    plt.tight_layout(rect=[0, 0, 0.85, 1])\n",
    "\n",
    "    if save_to_file:\n",
    "        plt.savefig(filename, bbox_inches='tight')\n",
    "\n",
    "    plt.show()"
   ],
   "id": "9214ec9c09cf3d17",
   "execution_count": 53,
   "outputs": []
  },
  {
   "metadata": {
    "ExecuteTime": {
     "end_time": "2024-08-04T18:48:13.477597Z",
     "start_time": "2024-08-04T18:48:10.140724Z"
    }
   },
   "cell_type": "code",
   "source": "plot_missing_values_pie_charts(df, save_to_file = True, filename = 'missing_values_before.png')",
   "id": "6dca6b2fcb588b0b",
   "execution_count": 54,
   "outputs": []
  },
  {
   "metadata": {
    "ExecuteTime": {
     "end_time": "2024-08-04T18:56:42.194897Z",
     "start_time": "2024-08-04T18:56:42.186999Z"
    }
   },
   "cell_type": "code",
   "source": [
    "def plot_zero_values_pie_charts(dataframe, save_to_file=False, filename='zero_values_pie_charts.png'):\n",
    "    zero_counts = (dataframe == 0).sum()\n",
    "    zero_pct = 100 * zero_counts / len(dataframe)\n",
    "    zero_table = pd.concat([zero_counts, zero_pct], axis=1, keys=['Total', 'Percent'])\n",
    "\n",
    "    zero_columns = zero_table[zero_table['Total'] > 0].sort_values('Total', ascending=False)\n",
    "    num_zero = len(zero_columns)\n",
    "    num_cols_pie = 5\n",
    "    num_rows = -(-num_zero // num_cols_pie)\n",
    "\n",
    "    fig, axs = plt.subplots(num_rows, num_cols_pie, figsize=(num_cols_pie * 5, num_rows * 5))\n",
    "\n",
    "    axs = axs.flatten()\n",
    "\n",
    "    for i, col in enumerate(zero_columns.index):\n",
    "        zero_count = zero_counts[col]\n",
    "        non_zero_count = len(dataframe) - zero_count\n",
    "        total_count = zero_count + non_zero_count\n",
    "        pie_data = [zero_count, non_zero_count]\n",
    "        pie_labels = ['Zero', 'Non-Zero']\n",
    "\n",
    "        axs[i].pie(\n",
    "            pie_data,\n",
    "            labels=pie_labels,\n",
    "            colors=['#90EE90', '#D3D3D3'],\n",
    "            autopct='%1.1f%%',\n",
    "            startangle=90,\n",
    "            wedgeprops=dict(width=0.3)\n",
    "        )\n",
    "        axs[i].set_title(col, fontsize=12)\n",
    "\n",
    "    for j in range(num_zero, len(axs)):\n",
    "        axs[j].axis('off')\n",
    "\n",
    "    fig.suptitle(\"Zero Values - Pie Charts\", fontsize=16)\n",
    "    plt.tight_layout(rect=[0, 0, 0.85, 1])\n",
    "\n",
    "    if save_to_file:\n",
    "        plt.savefig(filename, bbox_inches='tight')\n",
    "\n",
    "    plt.show()"
   ],
   "id": "f2328242497062b",
   "execution_count": 62,
   "outputs": []
  },
  {
   "metadata": {
    "ExecuteTime": {
     "end_time": "2024-08-04T18:57:46.809014Z",
     "start_time": "2024-08-04T18:57:43.969236Z"
    }
   },
   "cell_type": "code",
   "source": "plot_zero_values_pie_charts(df, save_to_file= True, filename = 'zero_values_before.png')",
   "id": "e0f20959a00f67bb",
   "execution_count": 64,
   "outputs": []
  },
  {
   "metadata": {
    "ExecuteTime": {
     "end_time": "2024-08-04T18:09:24.260405Z",
     "start_time": "2024-08-04T18:09:24.245797Z"
    }
   },
   "cell_type": "code",
   "source": [
    "translation_dict={\n",
    "'Villa':'House',\n",
    "'Lägenhet':'Apartment',\n",
    "'Tomt':'Plot',\n",
    "'Radhus':'Town house',\n",
    "'Parhus':'Terraced house',\n",
    "'Vinterbonatfritidshus':'Winterized holiday home',\n",
    "'Övrig':'Other',\n",
    "'Kedjehus':'Linked house',\n",
    "'Par-/kedje-/radhus':'Row/Terrace/Town house',\n",
    "'Fritidshus':'Holiday home',\n",
    "'Gårdutanjordbruk':'Farm without agriculture',\n",
    "'Gård/skog':'Farm/Forest',\n",
    "'Gårdmedjordbruk':'Farm with agriculture',\n",
    "'Fritidsboende':'Holiday accommodation',\n",
    "'Gårdmedskogsbruk':'Farm with forestry'\n",
    "}\n"
   ],
   "id": "ffa3a79ce8c2eeb8",
   "execution_count": 29,
   "outputs": []
  },
  {
   "metadata": {
    "ExecuteTime": {
     "end_time": "2024-08-04T18:09:30.288422Z",
     "start_time": "2024-08-04T18:09:30.269396Z"
    }
   },
   "cell_type": "code",
   "source": "df.head()",
   "id": "a24265d5fdb3a860",
   "execution_count": 30,
   "outputs": []
  },
  {
   "metadata": {
    "ExecuteTime": {
     "end_time": "2024-08-04T18:14:44.212521Z",
     "start_time": "2024-08-04T18:14:44.199376Z"
    }
   },
   "cell_type": "code",
   "source": "df.columns",
   "id": "65c4192bff281417",
   "execution_count": 34,
   "outputs": []
  },
  {
   "metadata": {
    "ExecuteTime": {
     "end_time": "2024-08-04T18:14:30.688906Z",
     "start_time": "2024-08-04T18:14:30.659437Z"
    }
   },
   "cell_type": "code",
   "source": "value_counts_ratio(df, columns = 'property_type')",
   "id": "385dc60675fe3dc5",
   "execution_count": 33,
   "outputs": []
  },
  {
   "metadata": {},
   "cell_type": "code",
   "execution_count": null,
   "source": "",
   "id": "d2872b0e1b6b3091",
   "outputs": []
  },
  {
   "metadata": {
    "ExecuteTime": {
     "end_time": "2024-08-04T10:39:33.021137Z",
     "start_time": "2024-08-04T10:39:28.212386Z"
    }
   },
   "cell_type": "code",
   "source": "df2 = pd.read_csv('hemnet_last.csv')",
   "id": "d73af96b68ecdddd",
   "execution_count": 26,
   "outputs": []
  },
  {
   "metadata": {
    "ExecuteTime": {
     "end_time": "2024-08-04T12:06:51.021638Z",
     "start_time": "2024-08-04T12:06:50.984848Z"
    }
   },
   "cell_type": "code",
   "source": "df2.columns",
   "id": "1e4cae4a0b7b23c",
   "execution_count": 30,
   "outputs": []
  },
  {
   "metadata": {
    "ExecuteTime": {
     "end_time": "2024-08-04T12:06:56.318638Z",
     "start_time": "2024-08-04T12:06:56.279753Z"
    }
   },
   "cell_type": "code",
   "source": "df2['area']",
   "id": "5627223379fd7a99",
   "execution_count": 31,
   "outputs": []
  },
  {
   "metadata": {},
   "cell_type": "code",
   "execution_count": null,
   "source": "",
   "id": "c58cddb07310990c",
   "outputs": []
  }
 ],
 "metadata": {
  "kernelspec": {
   "display_name": "Python 3",
   "language": "python",
   "name": "python3"
  },
  "language_info": {
   "codemirror_mode": {
    "name": "ipython",
    "version": 2
   },
   "file_extension": ".py",
   "mimetype": "text/x-python",
   "name": "python",
   "nbconvert_exporter": "python",
   "pygments_lexer": "ipython2",
   "version": "2.7.6"
  }
 },
 "nbformat": 4,
 "nbformat_minor": 5
}
